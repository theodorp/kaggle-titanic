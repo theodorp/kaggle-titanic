{
 "cells": [
  {
   "cell_type": "markdown",
   "metadata": {},
   "source": [
    "# VARIABLE DESCRIPTIONS:\n",
    "* survival:        Survival (0 = No; 1 = Yes)\n",
    "* pclass:          Passenger Class (1 = 1st; 2 = 2nd; 3 = 3rd)\n",
    "* name:            Name\n",
    "* sex:             Sex\n",
    "* age:             Age\n",
    "* sibsp:           Number of Siblings/Spouses Aboard\n",
    "* parch:           Number of Parents/Children Aboard\n",
    "* ticket:          Ticket Number\n",
    "* fare:            Passenger Fare\n",
    "* cabin:           Cabin\n",
    "* embarked:        Port of Embarkation (C = Cherbourg; Q = Queenstown; S = Southampton)"
   ]
  },
  {
   "cell_type": "code",
   "execution_count": 1,
   "metadata": {
    "collapsed": false
   },
   "outputs": [],
   "source": [
    "import pandas as pd\n",
    "import numpy as np\n",
    "import matplotlib.pyplot as plt\n",
    "import pylab as pl\n",
    "from ggplot import *\n",
    "plt.style.use('ggplot')\n",
    "%matplotlib inline\n",
    "\n",
    "from sklearn.preprocessing import LabelEncoder"
   ]
  },
  {
   "cell_type": "markdown",
   "metadata": {},
   "source": [
    "### Data Cleaner/ Feature Engineering"
   ]
  },
  {
   "cell_type": "code",
   "execution_count": 2,
   "metadata": {
    "collapsed": false
   },
   "outputs": [],
   "source": [
    "def data_filler(train_df, test_df):\n",
    "\n",
    "    # Function to fill in Empty values for Age and Fare\n",
    "    # This way the entire dataset can be used to calculate median Age\n",
    "    # Only necessary columns needed for these calculations will be created. \n",
    "\n",
    "    # Remove Survived Column from Train DF \n",
    "    # and join the two data frames\n",
    "    joined_df = pd.concat([train_df.drop(['Survived'], 1), test_df])\n",
    "    \n",
    "    # Add 'Title' Column\n",
    "    joined_df['Title'] = joined_df['Name']\n",
    "    joined_df['Title'] = joined_df['Title'].map(lambda x: x.rsplit(',')[1].rsplit('.')[0].strip())\n",
    "    \n",
    "    # Fill Age Based on Title\n",
    "    joined_df['AgeFill'] = joined_df['Age']\n",
    "    median_ages_title = np.zeros(6)\n",
    "    title_fill = ['Master', 'Miss', 'Mr', 'Mrs', 'Ms', 'Dr']\n",
    "    \n",
    "    for idx, val in enumerate(title_fill):\n",
    "        median_ages_title[idx] = np.average(joined_df[joined_df['Title'] == val]['Age'].dropna())\n",
    "        joined_df.loc[ (joined_df.Age.isnull()) & (joined_df.Title == val) ,'AgeFill'] = median_ages_title[idx]\n",
    "\n",
    "    # Fill Missing Fare (n=1) Based on Class (Pclass=3)\n",
    "    joined_df['FareFill'] = joined_df['Fare']\n",
    "    joined_df.loc[(joined_df.Fare.isnull()), 'FareFill'] = np.average(joined_df[joined_df['Pclass'] == 3]['Fare'].dropna())\n",
    "    \n",
    "    # Fill in Missing Embarked - Googled \n",
    "    joined_df['EmbarkFill'] = joined_df['Embarked']\n",
    "    joined_df.loc[(joined_df.Embarked.isnull()), 'EmbarkFill'] = 'S'\n",
    "    \n",
    "    # Resplit Data\n",
    "    train_data = joined_df[:len(train_df)]\n",
    "    test_data = joined_df[len(train_df):]\n",
    "    \n",
    "    # Add Survived Column back to Train DF\n",
    "    train_data.insert(1, 'Survived', train_df['Survived'].values)\n",
    "    \n",
    "    return train_data, test_data\n",
    "    "
   ]
  },
  {
   "cell_type": "code",
   "execution_count": 3,
   "metadata": {
    "collapsed": true
   },
   "outputs": [],
   "source": [
    "def add_features(df):\n",
    "    \n",
    "    le = LabelEncoder()\n",
    "\n",
    "    # Convert Embarked Str in Embarked Int using sklearn\n",
    "    df['EmbarkedInt'] = le.fit_transform(df['EmbarkFill']).astype(np.float)\n",
    "\n",
    "    # Convert 'Sex' Str to 'Gender' Int\n",
    "    df['Gender'] = le.fit_transform(df['Sex']).astype(np.float)\n",
    "\n",
    "\n",
    "    \n",
    "    # Convert Title Str to Title Int\n",
    "    df['Title'] = le.fit_transform(df['Title']).astype(np.float)\n",
    "\n",
    "    # AgeIsNull: 1 = Age was NaN, 0 = Age was present\n",
    "    df['AgeIsNull'] = df['Age'].isnull().astype(int)\n",
    "    \n",
    "    # FamilySize\n",
    "    df['FamilySize'] = df['SibSp'] + df['Parch']\n",
    "    \n",
    "    df['CabinPre'] = df['Cabin'].fillna('X').apply(lambda x: x[0])\n",
    "    df['CabinInt'] = le.fit_transform(df['CabinPre']).astype(np.float)\n",
    "    \n",
    "\n",
    "#     df = df.drop(['Age', 'Name', 'Fare', 'Sex', 'Ticket', 'Cabin', \\\n",
    "#                   'SibSp', 'Parch', 'Embarked', 'EmbarkFill'], 1)\n",
    "    \n",
    "    return df"
   ]
  },
  {
   "cell_type": "code",
   "execution_count": 4,
   "metadata": {
    "collapsed": false
   },
   "outputs": [],
   "source": [
    "#Raw Data\n",
    "train_df_og = pd.read_csv('data/train.csv')\n",
    "test_df_og = pd.read_csv('data/test.csv')\n",
    "\n",
    "# Fill the Missing Values\n",
    "train_df_fill, test_df_fill = data_filler(train_df_og, test_df_og)\n",
    "\n",
    "\n",
    "# Add Features\n",
    "train_df_feat = add_features(train_df_fill)\n",
    "test_df_feat = add_features(test_df_fill)\n",
    "\n",
    "# train_df_feat.head(8)"
   ]
  },
  {
   "cell_type": "code",
   "execution_count": 5,
   "metadata": {
    "collapsed": false
   },
   "outputs": [
    {
     "data": {
      "text/plain": [
       "array(['PassengerId', 'Survived', 'Pclass', 'Name', 'Sex', 'Age', 'SibSp',\n",
       "       'Parch', 'Ticket', 'Fare', 'Cabin', 'Embarked', 'Title', 'AgeFill',\n",
       "       'FareFill', 'EmbarkFill', 'EmbarkedInt', 'Gender', 'AgeIsNull',\n",
       "       'FamilySize', 'CabinPre', 'CabinInt'], dtype=object)"
      ]
     },
     "execution_count": 5,
     "metadata": {},
     "output_type": "execute_result"
    }
   ],
   "source": [
    "# joined_df = pd.concat([train_df_fill.drop(['Survived'], 1), test_df_fill])\n",
    "train_df_feat.columns.values\n",
    "\n",
    "# ggplot(train_df_fill, aes('Title', fill='Survived')) + geom_histogram() + scale_y_continuous(limits=(0,50))"
   ]
  },
  {
   "cell_type": "code",
   "execution_count": 9,
   "metadata": {
    "collapsed": false
   },
   "outputs": [
    {
     "data": {
      "text/plain": [
       "array(['X', 'C', 'E', 'G', 'D', 'A', 'B', 'F', 'T'], dtype=object)"
      ]
     },
     "execution_count": 9,
     "metadata": {},
     "output_type": "execute_result"
    }
   ],
   "source": []
  },
  {
   "cell_type": "markdown",
   "metadata": {},
   "source": [
    "### Learner"
   ]
  },
  {
   "cell_type": "code",
   "execution_count": 33,
   "metadata": {
    "collapsed": false
   },
   "outputs": [],
   "source": [
    "## Prepare DFs for sklearn\n",
    "\n",
    "features = ['Pclass', 'AgeFill', 'Gender', 'FareFill', 'CabinInt', 'FamilySize']\n",
    "\n",
    "X = train_df_feat.ix[:,features].values\n",
    "y = train_df_feat.ix[:, 'Survived'].values\n",
    "\n",
    "X_test = test_df_feat.ix[:,features].values"
   ]
  },
  {
   "cell_type": "code",
   "execution_count": 181,
   "metadata": {
    "collapsed": false
   },
   "outputs": [],
   "source": [
    "from sklearn.cross_validation import StratifiedKFold\n",
    "from sklearn.ensemble import RandomForestClassifier\n",
    "from sklearn.metrics import accuracy_score\n",
    "\n",
    "skf = StratifiedKFold(y, n_folds=10, random_state=42)\n",
    "\n",
    "plotter = []\n",
    "\n",
    "# for n in range(30,101,10):\n",
    "\n",
    "#     logging.info(n)\n",
    "\n",
    "\n",
    "cv_accuracy_score = []\n",
    "\n",
    "for train_index, test_index in skf:\n",
    "    X_train, X_cv = X[train_index], X[test_index]\n",
    "    y_train, y_cv = y[train_index], y[test_index]\n",
    "\n",
    "    clf = RandomForestClassifier(n_estimators=70)\n",
    "\n",
    "    clf.fit(X_train, y_train)\n",
    "\n",
    "    pred = clf.predict(X_cv)\n",
    "    \n",
    "    if accuracy_score(y_cv, pred) > 0.88:\n",
    "        output = clf.predict(X_test)\n",
    "        results = list(zip(test_df_feat.PassengerId, output.astype(int)))\n",
    "        submission = pd.DataFrame(results, columns=['PassengerId', 'Survived'])\n",
    "        submission.to_csv('randomforest.csv', index=False)\n",
    "    \n",
    "    cv_accuracy_score.append(accuracy_score(y_cv, pred))\n",
    "    \n",
    "\n",
    "#     plotter.append((n, np.mean(cv_accuracy_score)*100)"
   ]
  },
  {
   "cell_type": "code",
   "execution_count": 182,
   "metadata": {
    "collapsed": false
   },
   "outputs": [
    {
     "data": {
      "image/png": "[encoded data removed]",
      "text/plain": [
       "<matplotlib.figure.Figure at 0x1140e1588>"
      ]
     },
     "metadata": {},
     "output_type": "display_data"
    },
    {
     "name": "stdout",
     "output_type": "stream",
     "text": [
      "<ggplot: (288182855)>\n",
      "\n",
      " 73.0337078652 82.1707240949 88.7640449438\n"
     ]
    }
   ],
   "source": [
    "acc = pd.DataFrame(cv_accuracy_score, columns=['accuracy']).reset_index().rename(columns={'index': 'n'})\n",
    "acc.accuracy = acc.accuracy*100\n",
    "\n",
    "# acc = pd.DataFrame(plotter, columns=['n','accuracy'])\n",
    "\n",
    "print(ggplot(acc, aes(x='n', y='accuracy')) + geom_point() + scale_y_continuous(limits=(80, 90)) + stat_smooth())\n",
    "\n",
    "print('\\n', min(acc.accuracy), np.mean(acc.accuracy), max(acc.accuracy))"
   ]
  },
  {
   "cell_type": "markdown",
   "metadata": {},
   "source": [
    " 71.9101123596 82.6076211554 87.6404494382\n"
   ]
  },
  {
   "cell_type": "code",
   "execution_count": null,
   "metadata": {
    "collapsed": true
   },
   "outputs": [],
   "source": []
  }
 ],
 "metadata": {
  "kernelspec": {
   "display_name": "Python 3",
   "language": "python",
   "name": "python3"
  },
  "language_info": {
   "codemirror_mode": {
    "name": "ipython",
    "version": 3
   },
   "file_extension": ".py",
   "mimetype": "text/x-python",
   "name": "python",
   "nbconvert_exporter": "python",
   "pygments_lexer": "ipython3",
   "version": "3.5.0"
  }
 },
 "nbformat": 4,
 "nbformat_minor": 0
}
