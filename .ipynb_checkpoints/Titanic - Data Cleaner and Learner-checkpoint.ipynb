{
 "cells": [
  {
   "cell_type": "markdown",
   "metadata": {},
   "source": [
    "# VARIABLE DESCRIPTIONS:\n",
    "* survival:        Survival (0 = No; 1 = Yes)\n",
    "* pclass:          Passenger Class (1 = 1st; 2 = 2nd; 3 = 3rd)\n",
    "* name:            Name\n",
    "* sex:             Sex\n",
    "* age:             Age\n",
    "* sibsp:           Number of Siblings/Spouses Aboard\n",
    "* parch:           Number of Parents/Children Aboard\n",
    "* ticket:          Ticket Number\n",
    "* fare:            Passenger Fare\n",
    "* cabin:           Cabin\n",
    "* embarked:        Port of Embarkation (C = Cherbourg; Q = Queenstown; S = Southampton)"
   ]
  },
  {
   "cell_type": "code",
   "execution_count": 16,
   "metadata": {
    "collapsed": true
   },
   "outputs": [],
   "source": [
    "import pandas as pd\n",
    "import numpy as np\n",
    "import matplotlib.pyplot as plt\n",
    "import pylab as pl\n",
    "%matplotlib inline"
   ]
  },
  {
   "cell_type": "markdown",
   "metadata": {},
   "source": [
    "## Data Cleaner"
   ]
  },
  {
   "cell_type": "code",
   "execution_count": 2,
   "metadata": {
    "collapsed": false
   },
   "outputs": [],
   "source": [
    "def data_cleaner(filename):\n",
    "    df = pd.read_csv('data/' + filename)\n",
    "\n",
    "    # Gender: Females = 0, Males = 1\n",
    "    df['Gender'] = df['Sex'].map({'female': 0, 'male': 1})\n",
    "\n",
    "    # EmbarkedInt: C = 0, Q = 1, S = 2, nan = 0\n",
    "    df['EmbarkedInt'] = df['Embarked'].map({'C': 1, 'Q': 2, 'S': 3}).fillna('0')\n",
    "\n",
    "    # AgeIsNull: 1 = Age was NaN, 0 = Age was present\n",
    "    df['AgeIsNull'] = df['Age'].isnull().astype(int)\n",
    "\n",
    "    # AgeFill: \n",
    "    median_ages = np.zeros((2,3))\n",
    "    for i in range(0, 2):\n",
    "        for j in range(0, 3):\n",
    "            median_ages[i,j] = df[(df['Gender'] == i) & \\\n",
    "                                  (df['Pclass'] == j+1)]['Age'].dropna().median()\n",
    "\n",
    "    df['AgeFill'] = df['Age']\n",
    "\n",
    "    for i in range(0, 2):\n",
    "        for j in range(0, 3):\n",
    "            df.loc[ (df.Age.isnull()) & (df.Gender == i) & (df.Pclass == j+1),\\\n",
    "                    'AgeFill'] = median_ages[i,j]\n",
    "    \n",
    "    # FamilySize\n",
    "    df['FamilySize'] = df['SibSp'] + df['Parch']\n",
    "\n",
    "    # FareFill\n",
    "    df['FareFill'] = df['Fare'].fillna('0')\n",
    "    \n",
    "    median_fare = df[['Pclass','Fare']][df.Fare > 0].groupby('Pclass').median()\n",
    "    \n",
    "    for i in range(1,4):\n",
    "        df.loc[(df.Fare == 0) & (df.Pclass == i), 'FareFill'] = median_fare.Fare[i]    \n",
    "    \n",
    "    pd.options.mode.chained_assignment = None\n",
    "\n",
    "    # Title:\n",
    "    df['Title'] = df['Name']\n",
    "    df['Title'] = df['Title'].map(lambda x: x.rsplit(',')[1].rsplit('.')[0].strip())\n",
    "    df['TitleInt'] = df['Title'].apply(lambda x: 0 if x in ['Capt', 'Col', 'Don', 'Jonkheer', 'Major', 'Rev', 'Mr'] else 1)\n",
    "\n",
    "\n",
    "    df = df.drop(['Age', 'Name', 'Fare', 'Sex', 'Ticket', 'Cabin', 'AgeIsNull',\\\n",
    "                  'SibSp', 'Parch', 'EmbarkedInt', 'Embarked', 'Title', 'TitleInt'], 1)\n",
    "    \n",
    "    return df"
   ]
  },
  {
   "cell_type": "code",
   "execution_count": 9,
   "metadata": {
    "collapsed": false
   },
   "outputs": [
    {
     "name": "stdout",
     "output_type": "stream",
     "text": [
      "   PassengerId  Survived  Pclass  Gender\n",
      "0            1         0       3       1\n",
      "1            2         1       1       0\n",
      "2            3         1       3       0\n",
      "   PassengerId  Pclass  Gender\n",
      "0          892       3       1\n"
     ]
    }
   ],
   "source": [
    "train_df = data_cleaner('train.csv')\n",
    "test_df = data_cleaner('test.csv')\n",
    "\n",
    "train_df = train_df.drop(['AgeFill', 'FamilySize', 'FareFill'], 1)\n",
    "test_df = test_df.drop(['AgeFill', 'FamilySize', 'FareFill'], 1)\n",
    "\n",
    "print(train_df.head(3))\n",
    "print(test_df.head(1))"
   ]
  },
  {
   "cell_type": "code",
   "execution_count": 8,
   "metadata": {
    "collapsed": false
   },
   "outputs": [
    {
     "data": {
      "text/plain": [
       "array([[3, 1],\n",
       "       [1, 0],\n",
       "       [3, 0],\n",
       "       ..., \n",
       "       [3, 0],\n",
       "       [1, 1],\n",
       "       [3, 1]])"
      ]
     },
     "execution_count": 8,
     "metadata": {},
     "output_type": "execute_result"
    }
   ],
   "source": [
    "## Prepare DFs for sklearn\n",
    "\n",
    "X_train = train_df.values[:,2:]\n",
    "y_train = train_df.values[:,1]\n",
    "\n",
    "X_train\n",
    "# X_test = test_df.values[:,1:].astype(float)"
   ]
  },
  {
   "cell_type": "code",
   "execution_count": 10,
   "metadata": {
    "collapsed": false
   },
   "outputs": [
    {
     "data": {
      "text/plain": [
       "SVC(C=1.0, cache_size=200, class_weight=None, coef0=0.0,\n",
       "  decision_function_shape=None, degree=3, gamma='auto', kernel='rbf',\n",
       "  max_iter=-1, probability=False, random_state=None, shrinking=True,\n",
       "  tol=0.001, verbose=False)"
      ]
     },
     "execution_count": 10,
     "metadata": {},
     "output_type": "execute_result"
    }
   ],
   "source": [
    "from sklearn.svm import SVC\n",
    "\n",
    "clf = SVC()\n",
    "clf.fit(X_train, y_train)\n",
    "\n",
    "# output = clf.predict(X_test)"
   ]
  },
  {
   "cell_type": "code",
   "execution_count": null,
   "metadata": {
    "collapsed": false
   },
   "outputs": [],
   "source": [
    "submission = pd.DataFrame({'PassengerId': test_df.PassengerId, \\\n",
    "                           'Survived': output.astype(int)})"
   ]
  },
  {
   "cell_type": "code",
   "execution_count": null,
   "metadata": {
    "collapsed": false
   },
   "outputs": [],
   "source": [
    "submission.to_csv('SVC_default.csv', index=False)"
   ]
  },
  {
   "cell_type": "code",
   "execution_count": 81,
   "metadata": {
    "collapsed": false
   },
   "outputs": [],
   "source": [
    "def prettyPicture(clf, X, y):\n",
    "    h = .01  # step size in the mesh\n",
    "\n",
    "    # Plot the decision boundary. For that, we will assign a color to each\n",
    "    # point in the mesh [x_min, m_max]x[y_min, y_max].\n",
    "    x_min, x_max = X[:, 0].min() - 1, X[:, 0].max() + 1\n",
    "    y_min, y_max = X[:, 1].min() - 1, X[:, 1].max() + 1\n",
    "\n",
    "    # x_min = 0.0; x_max = 1.0\n",
    "    # y_min = 0.0; y_max = 1.0\n",
    "\n",
    "    xx, yy = np.meshgrid(np.arange(x_min, x_max, h), np.arange(y_min, y_max, h))\n",
    "    Z = clf.predict(np.c_[xx.ravel(), yy.ravel()])\n",
    "\n",
    "    # Put the result into a color plot\n",
    "    Z = Z.reshape(xx.shape)\n",
    "    plt.pcolormesh(xx, yy, Z, cmap=plt.cm.Paired)\n",
    "\n",
    "    # Plot also the training points\n",
    "    plt.scatter(X[:, 0], X[:, 1], cmap=plt.cm.Paired)#, c=Y)\n",
    "    plt.axis('tight')\n",
    "    plt.ylabel('Gender')\n",
    "    plt.xlabel('PClass')\n",
    "    plt.show()\n",
    "\n",
    "    \n",
    "\n",
    "from sklearn.cross_validation import train_test_split\n",
    "from sklearn.svm import SVC\n",
    "from sklearn.metrics import accuracy_score\n",
    "\n",
    "# tmp = train_df[['Pclass',  'Gender',  'AgeFill',  'FamilySize', 'FareFill']]\n",
    "\n",
    "X = train_df[['Pclass',  'Gender']].values\n",
    "Y = train_df['Survived'].values\n",
    "\n",
    "x = test_df[['Pclass',  'Gender']].values\n",
    "\n",
    "# X_train, X_test, y_train, y_test = train_test_split(X, Y, test_size=0.1, random_state=72)\n",
    "\n",
    "\n",
    "\n",
    "# we create an instance of SVM and fit out data.\n",
    "clf = SVC(C=1)\n",
    "clf.fit(X, Y)\n",
    "\n",
    "pred = clf.predict(x)\n",
    "# print(accuracy_score(y_test, pred))\n",
    "\n",
    "# prettyPicture(clf, X_test, y_test)\n",
    "\n"
   ]
  },
  {
   "cell_type": "code",
   "execution_count": 84,
   "metadata": {
    "collapsed": false
   },
   "outputs": [],
   "source": [
    "submission = pd.DataFrame({'PassengerId': test_df.PassengerId, \\\n",
    "                           'Survived': pred.astype(int)})"
   ]
  },
  {
   "cell_type": "code",
   "execution_count": null,
   "metadata": {
    "collapsed": true
   },
   "outputs": [],
   "source": []
  }
 ],
 "metadata": {
  "kernelspec": {
   "display_name": "Python 3",
   "language": "python",
   "name": "python3"
  },
  "language_info": {
   "codemirror_mode": {
    "name": "ipython",
    "version": 3
   },
   "file_extension": ".py",
   "mimetype": "text/x-python",
   "name": "python",
   "nbconvert_exporter": "python",
   "pygments_lexer": "ipython3",
   "version": "3.5.0"
  }
 },
 "nbformat": 4,
 "nbformat_minor": 0
}
